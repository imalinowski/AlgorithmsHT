{
  "nbformat": 4,
  "nbformat_minor": 0,
  "metadata": {
    "colab": {
      "provenance": [],
      "collapsed_sections": [],
      "authorship_tag": "ABX9TyPbJwxcn2OP9zzAykrtahT6",
      "include_colab_link": true
    },
    "kernelspec": {
      "name": "python3",
      "display_name": "Python 3"
    },
    "language_info": {
      "name": "python"
    },
    "gpuClass": "standard"
  },
  "cells": [
    {
      "cell_type": "markdown",
      "metadata": {
        "id": "view-in-github",
        "colab_type": "text"
      },
      "source": [
        "<a href=\"https://colab.research.google.com/github/imalinowski/AlgorithmsHT/blob/main/algo_comparison.ipynb\" target=\"_parent\"><img src=\"https://colab.research.google.com/assets/colab-badge.svg\" alt=\"Open In Colab\"/></a>"
      ]
    },
    {
      "cell_type": "code",
      "execution_count": 1,
      "metadata": {
        "id": "39BOxf8pkIXA"
      },
      "outputs": [],
      "source": [
        "from google.colab import output\n",
        "\n",
        "!pip install umap-learn\n",
        "output.clear()"
      ]
    },
    {
      "cell_type": "code",
      "source": [
        "import numpy as np\n",
        "from sklearn.decomposition import PCA, TruncatedSVD\n",
        "from sklearn.manifold import TSNE\n",
        "import matplotlib.pyplot as plt\n",
        "from sklearn.datasets import fetch_openml\n",
        "import gensim.downloader as api\n",
        "from umap import UMAP"
      ],
      "metadata": {
        "id": "kadoowytkvKk"
      },
      "execution_count": 2,
      "outputs": []
    },
    {
      "cell_type": "code",
      "source": [
        "from io import BytesIO\n",
        "from zipfile import ZipFile\n",
        "from urllib.request import urlopen\n",
        "\n",
        "resp = urlopen(\"http://www.cs.columbia.edu/CAVE/databases/SLAM_coil-20_coil-100/coil-20/coil-20-proc.zip\")\n",
        "coil20_zip = ZipFile(BytesIO(resp.read()))\n",
        "coil20_zip.extractall()"
      ],
      "metadata": {
        "id": "81mxF5Ejk1rg"
      },
      "execution_count": 3,
      "outputs": []
    },
    {
      "cell_type": "code",
      "source": [
        "import os\n",
        "import imageio\n",
        "from collections import namedtuple\n",
        "\n",
        "directory = os.fsencode(\"./coil-20-proc/\")\n",
        "\n",
        "DatasetImage = namedtuple('DatasetImage', ('filename', 'image'))\n",
        "coil20_images = []\n",
        "for file in os.listdir(directory):\n",
        "  filename = os.fsdecode(file)\n",
        "  img = imageio.imread(\"./coil-20-proc/\" + filename)\n",
        "  coil20_images.append(DatasetImage(filename, img))\n",
        "\n",
        "coil20_images = sorted(coil20_images, key=lambda im: (int(im.filename[3:im.filename.find('_')]), int(im.filename[im.filename.find('_')+2:im.filename.find('.')])))"
      ],
      "metadata": {
        "id": "C05IEOLhl0yJ"
      },
      "execution_count": 5,
      "outputs": []
    },
    {
      "cell_type": "code",
      "source": [
        "coil20_x = []\n",
        "coil20_y = []\n",
        "for img in coil20_images:\n",
        "  coil20_x.append(np.array(img.image).reshape(1, -1)[0])\n",
        "  coil20_y.append(int(img.filename[3:img.filename.find('_')]))"
      ],
      "metadata": {
        "id": "pgvmc8cSl5a9"
      },
      "execution_count": 6,
      "outputs": []
    },
    {
      "cell_type": "code",
      "source": [
        "mnist_x, mnist_y = fetch_openml(\"mnist_784\", version=1, return_X_y=True, as_frame=False)"
      ],
      "metadata": {
        "id": "tC9Yl_9ql7sO"
      },
      "execution_count": 7,
      "outputs": []
    },
    {
      "cell_type": "code",
      "source": [
        "fmnist_x, fmnist_y = fetch_openml(\"Fashion-MNIST\", version=1, return_X_y=True, as_frame=False)"
      ],
      "metadata": {
        "id": "db2Y09h979jd"
      },
      "execution_count": 8,
      "outputs": []
    },
    {
      "cell_type": "code",
      "source": [
        "wordVectors = api.load('word2vec-google-news-300')\n",
        "google_news_x = wordVectors.vectors[:100000]\n",
        "google_news_y = []"
      ],
      "metadata": {
        "colab": {
          "base_uri": "https://localhost:8080/"
        },
        "id": "DqzNV8yV8AFH",
        "outputId": "028ae687-ca99-45e1-f22e-675458dd2685"
      },
      "execution_count": null,
      "outputs": [
        {
          "output_type": "stream",
          "name": "stdout",
          "text": [
            "[=================---------------------------------] 35.8% 595.0/1662.8MB downloaded"
          ]
        }
      ]
    },
    {
      "cell_type": "code",
      "source": [
        "PCA_model = PCA(n_components=2)\n",
        "SVD_model = TruncatedSVD(n_components=2)\n",
        "TSNE_model = TSNE(n_components=2)\n",
        "UMAP_model = UMAP(n_components=2)"
      ],
      "metadata": {
        "id": "0RsszBk68CC9"
      },
      "execution_count": null,
      "outputs": []
    },
    {
      "cell_type": "code",
      "source": [
        "datasets = [\n",
        "    (coil20_x, coil20_y, 'COIL20'),\n",
        "    (mnist_x, mnist_y.astype(int), 'MNIST'),\n",
        "    (fmnist_x, fmnist_y.astype(int), 'Fashion-MNIST'),\n",
        "    (google_news_x, google_news_y, 'Word Vectors')\n",
        "]\n",
        "models = [\n",
        "    (PCA_model, 'PCA'),\n",
        "    (SVD_model, 'SVD'),\n",
        "    (TSNE_model, 't-SNE'),\n",
        "    (UMAP_model, 'UMAP')\n",
        "]"
      ],
      "metadata": {
        "id": "un0uIO6b8D2f"
      },
      "execution_count": null,
      "outputs": []
    },
    {
      "cell_type": "code",
      "source": [
        "fig, axs = plt.subplots(4, 4, figsize=(16, 16))\n",
        "for i, (model, m_name) in enumerate(models):\n",
        "    for j, (X, y, d_name) in enumerate(datasets):\n",
        "        if i == 0:\n",
        "            axs[i, j].set_xlabel(f'{d_name}', fontsize=14) \n",
        "            axs[i, j].xaxis.set_label_position('top') \n",
        "        if j == 0:\n",
        "            axs[i, j].set_ylabel(f'{m_name}', fontsize=14)\n",
        "        embeddings = model.fit_transform(X)\n",
        "        if d_name == 'Word Vectors':\n",
        "          axs[i, j].scatter(embeddings[:, 0], embeddings[:, 1], s=0.1)\n",
        "        else:\n",
        "          axs[i, j].scatter(embeddings[:, 0], embeddings[:, 1], c=y, s=0.1)\n",
        "        axs[i, j].set_xticks([])\n",
        "        axs[i, j].set_yticks([])\n",
        "\n",
        "output.clear()\n",
        "plt.show()"
      ],
      "metadata": {
        "id": "cZKDbs888FWv"
      },
      "execution_count": null,
      "outputs": []
    }
  ]
}